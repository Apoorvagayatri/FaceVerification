{
 "cells": [
  {
   "cell_type": "code",
   "execution_count": 1,
   "id": "34811f8c",
   "metadata": {},
   "outputs": [
    {
     "name": "stderr",
     "output_type": "stream",
     "text": [
      "C:\\Users\\Himansu Ganguli\\AppData\\Local\\Temp\\ipykernel_15112\\606428152.py:3: TqdmDeprecationWarning: This function will be removed in tqdm==5.0.0\n",
      "Please use `tqdm.notebook.*` instead of `tqdm._tqdm_notebook.*`\n",
      "  from tqdm._tqdm_notebook import tqdm # for progress bars in notebook\n"
     ]
    }
   ],
   "source": [
    "import numpy as np\n",
    "import random\n",
    "from tqdm._tqdm_notebook import tqdm # for progress bars in notebook\n",
    "\n"
   ]
  },
  {
   "cell_type": "code",
   "execution_count": 2,
   "id": "90390c30",
   "metadata": {
    "id": "aKizwQKB0s65"
   },
   "outputs": [],
   "source": [
    "import os\n",
    "import cv2\n",
    "import pickle\n",
    "\n",
    "\n"
   ]
  },
  {
   "cell_type": "code",
   "execution_count": 7,
   "id": "d83d02af",
   "metadata": {
    "id": "zh1EAMHD7Z-G"
   },
   "outputs": [],
   "source": [
    "def detect_faces(image):\n",
    "\n",
    "    face_cascade = cv2.CascadeClassifier(cv2.data.haarcascades + 'haarcascade_frontalface_default.xml')\n",
    "    gray_image = cv2.cvtColor(image, cv2.COLOR_BGR2GRAY)\n",
    "\n",
    "    faces = face_cascade.detectMultiScale(gray_image, scaleFactor=1.1, minNeighbors=5, minSize=(30, 30))\n",
    "\n",
    "    return faces"
   ]
  },
  {
   "cell_type": "code",
   "execution_count": 9,
   "id": "78a7e7d0",
   "metadata": {},
   "outputs": [
    {
     "name": "stderr",
     "output_type": "stream",
     "text": [
      "Processing train_ds: 100%|██████████| 1855/1855 [19:19<00:00,  1.60folder/s]\n",
      "Processing val_ds: 100%|██████████| 51/51 [04:14<00:00,  4.99s/folder]\n",
      "Processing test_ds: 100%|██████████| 48/48 [01:55<00:00,  2.41s/folder]"
     ]
    },
    {
     "name": "stdout",
     "output_type": "stream",
     "text": [
      "Image loading completed!\n"
     ]
    },
    {
     "name": "stderr",
     "output_type": "stream",
     "text": [
      "\n"
     ]
    }
   ],
   "source": [
    "import os\n",
    "import cv2\n",
    "import numpy as np\n",
    "from tqdm import tqdm\n",
    "\n",
    "# Assuming detect_faces and apply_esrgan functions are already defined\n",
    "\n",
    "datasets = ['train_ds', 'val_ds', 'test_ds']\n",
    "extract_dir = 'dataset'  # Adjust this to your actual extract directory\n",
    "output_dir = 'processed_images_128'  # Directory to save processed images\n",
    "\n",
    "# Initialize lists for storing preprocessed images\n",
    "train_preprocessed = []\n",
    "val_preprocessed = []\n",
    "test_preprocessed = []\n",
    "\n",
    "train_labels = []\n",
    "val_labels = []\n",
    "test_labels = []\n",
    "\n",
    "def load_images_and_labels(dataset):\n",
    "    images = []\n",
    "    labels = []\n",
    "    dataset_path = os.path.join(extract_dir, dataset)\n",
    "    people_folders = [f for f in os.listdir(dataset_path) if os.path.isdir(os.path.join(dataset_path, f))]\n",
    "\n",
    "    progress_bar = tqdm(total=len(people_folders), desc=f'Processing {dataset}', unit='folder')\n",
    "\n",
    "    for person_folder in people_folders:\n",
    "        person_path = os.path.join(dataset_path, person_folder)\n",
    "        image_files = [os.path.join(person_path, f) for f in os.listdir(person_path) if f.endswith('.jpg') or f.endswith('.png')]\n",
    "        label = person_folder\n",
    "        for image_path in image_files:\n",
    "            image = cv2.imread(image_path, cv2.IMREAD_COLOR)\n",
    "            faces = detect_faces(image)\n",
    "\n",
    "            for (x, y, w, h) in faces:\n",
    "                # Extract the face ROI\n",
    "                face_roi = image[y:y+h, x:x+w]\n",
    "\n",
    "                # Convert to grayscale\n",
    "                gray_face = cv2.cvtColor(face_roi, cv2.COLOR_BGR2GRAY)\n",
    "\n",
    "                # Resize the face to the target size\n",
    "                target_size = (128, 128)\n",
    "                resized_face = cv2.resize(gray_face, target_size)\n",
    "\n",
    "                # Save processed image\n",
    "                filename = os.path.basename(image_path)\n",
    "                output_path = os.path.join(output_dir, dataset, person_folder, filename)\n",
    "                os.makedirs(os.path.dirname(output_path), exist_ok=True)\n",
    "                cv2.imwrite(output_path, resized_face)\n",
    "\n",
    "                images.append(resized_face)\n",
    "                labels.append(label)\n",
    "        \n",
    "        progress_bar.update(1)\n",
    "\n",
    "    progress_bar.close()\n",
    "    return images, labels\n",
    "\n",
    "# Call the function to load and process images\n",
    "train_preprocessed, train_labels = load_images_and_labels('train_ds')\n",
    "val_preprocessed, val_labels = load_images_and_labels('val_ds')\n",
    "test_preprocessed, test_labels = load_images_and_labels('test_ds')\n",
    "\n",
    "print(\"Image loading completed!\")\n"
   ]
  },
  {
   "cell_type": "markdown",
   "id": "f0c33aef",
   "metadata": {},
   "source": [
    "# Extract EigenVectors"
   ]
  },
  {
   "cell_type": "code",
   "execution_count": 3,
   "id": "750a86d8",
   "metadata": {},
   "outputs": [],
   "source": [
    "def load_images_from_folder(folder):\n",
    "    images = []\n",
    "    for filename in os.listdir(folder):\n",
    "        file_path = os.path.join(folder, filename)\n",
    "        if os.path.isdir(file_path) or not file_path.endswith(('.png', '.jpg', '.jpeg')):\n",
    "            continue\n",
    "        img = cv2.imread(file_path, cv2.IMREAD_GRAYSCALE)\n",
    "        if img is not None:\n",
    "            images.append(img.flatten())\n",
    "    return images\n"
   ]
  },
  {
   "cell_type": "code",
   "execution_count": 4,
   "id": "b1945e15",
   "metadata": {},
   "outputs": [],
   "source": [
    "def compute_pca(images):\n",
    "    # Compute mean image\n",
    "    mean_image = np.mean(images, axis=0)\n",
    "    \n",
    "    # Initialize covariance matrix\n",
    "    cov_matrix = np.zeros((mean_image.shape[0], mean_image.shape[0]))\n",
    "    \n",
    "    # Compute covariance matrix\n",
    "    for image in tqdm(images, desc='Computing Covariance'):\n",
    "        diff = image - mean_image\n",
    "        cov_matrix += np.outer(diff, diff)\n",
    "    cov_matrix /= (len(images) - 1)  # Normalize by N-1\n",
    "    \n",
    "    # Compute eigenvectors\n",
    "    eig_vals, eig_vecs = np.linalg.eigh(cov_matrix)\n",
    "    sorted_indices = np.argsort(-eig_vals)\n",
    "    eig_vecs = eig_vecs[:, sorted_indices]\n",
    "    \n",
    "    # Return top k eigenvectors\n",
    "    return eig_vecs"
   ]
  },
  {
   "cell_type": "code",
   "execution_count": 18,
   "id": "50682792",
   "metadata": {},
   "outputs": [],
   "source": [
    "k=[30,40,50,60]"
   ]
  },
  {
   "cell_type": "code",
   "execution_count": 9,
   "id": "103dd49d",
   "metadata": {},
   "outputs": [
    {
     "data": {
      "text/plain": [
       "(17263, 16384)"
      ]
     },
     "execution_count": 9,
     "metadata": {},
     "output_type": "execute_result"
    }
   ],
   "source": [
    "train_pairs.shape"
   ]
  },
  {
   "cell_type": "code",
   "execution_count": 10,
   "id": "e0b2d406",
   "metadata": {},
   "outputs": [],
   "source": [
    "import pickle"
   ]
  },
  {
   "cell_type": "code",
   "execution_count": 11,
   "id": "8e7cd28e",
   "metadata": {},
   "outputs": [
    {
     "data": {
      "application/vnd.jupyter.widget-view+json": {
       "model_id": "3ba6fdcc4051425ebe999ee2df20c19d",
       "version_major": 2,
       "version_minor": 0
      },
      "text/plain": [
       "Computing Covariance:   0%|          | 0/17263 [00:00<?, ?it/s]"
      ]
     },
     "metadata": {},
     "output_type": "display_data"
    }
   ],
   "source": [
    "eig_vecs = compute_pca(train_pairs)\n",
    "with open(f'eig_vecsk_128.pkl', 'wb') as file:\n",
    "    pickle.dump(eig_vecs, file)\n",
    "\n",
    "\n"
   ]
  },
  {
   "cell_type": "markdown",
   "id": "81e86fef",
   "metadata": {},
   "source": [
    "# SVC Model"
   ]
  },
  {
   "cell_type": "code",
   "execution_count": 13,
   "id": "7cdbe5fe",
   "metadata": {},
   "outputs": [],
   "source": [
    "from sklearn.model_selection import train_test_split\n",
    "from sklearn.svm import SVC\n",
    "from sklearn.metrics import accuracy_score, classification_report"
   ]
  },
  {
   "cell_type": "code",
   "execution_count": 6,
   "id": "dc204ddd",
   "metadata": {},
   "outputs": [],
   "source": [
    "with open(f'eig_vecsk_128.pkl', 'rb') as file:\n",
    "    eig_vecs = pickle.load(file)\n"
   ]
  },
  {
   "cell_type": "code",
   "execution_count": 8,
   "id": "1f47339e",
   "metadata": {},
   "outputs": [],
   "source": [
    "# Function to project images using PCA eigenvectors\n",
    "def project_images(image, k=60):\n",
    "    # Images should be reshaped if they aren't already in (n_samples, n_features) format\n",
    "    projected_images = np.dot(image, eig_vecs[:, :k])\n",
    "    return projected_images"
   ]
  },
  {
   "cell_type": "code",
   "execution_count": 9,
   "id": "6b8997c4",
   "metadata": {},
   "outputs": [],
   "source": [
    "def generate_pairs(dataset_dir):\n",
    "    pairs = []\n",
    "    labels = []\n",
    "    persons = os.listdir(dataset_dir)\n",
    "    persons = [person for person in persons if os.path.isdir(os.path.join(dataset_dir, person))]\n",
    "    \n",
    "    for person in tqdm(persons):\n",
    "        person_dir = os.path.join(dataset_dir, person)\n",
    "        images = load_images_from_folder(person_dir)\n",
    "        other_persons = [p for p in persons if p != person]\n",
    "        \n",
    "        if len(images) < 2:\n",
    "            continue  # Skip if there are not enough images to form pairs\n",
    "        \n",
    "        #Generate all positive pairs\n",
    "        for i in range(len(images)):\n",
    "            main_image = project_images(images[i])\n",
    "            j = random.choice([j for j in list(range(len(images))) if j != i])\n",
    "            pairs.append((main_image, project_images(images[j])))\n",
    "            labels.append(1)\n",
    "            while True:\n",
    "                other_person = random.choice(other_persons)\n",
    "                other_person_dir = os.path.join(dataset_dir, other_person)\n",
    "                other_images = load_images_from_folder(other_person_dir)\n",
    "                if len(other_images) > 0:\n",
    "                    break  # Ensure we get a non-empty list of images\n",
    "                \n",
    "            other_image = project_images(random.choice(other_images))\n",
    "            pairs.append((main_image, other_image))\n",
    "            labels.append(0)\n",
    "            \n",
    "    \n",
    "    #Shuffle the pairs and labels together\n",
    "    combined = list(zip(pairs, labels))\n",
    "    random.shuffle(combined)\n",
    "    pairs, labels = zip(*combined)\n",
    "    \n",
    "    return np.array(pairs), np.array(labels)\n"
   ]
  },
  {
   "cell_type": "code",
   "execution_count": 10,
   "id": "fb6f1c11",
   "metadata": {},
   "outputs": [],
   "source": [
    "train_dir='processed_images_128/train_ds'\n",
    "# test_dir='/Users/apoorvagayatrik/PerspectAIProj/processed_images_128/test_ds'\n",
    "# val_dir='/Users/apoorvagayatrik/PerspectAIProj/processed_images_128/val_ds'"
   ]
  },
  {
   "cell_type": "code",
   "execution_count": 11,
   "id": "bcd59277",
   "metadata": {},
   "outputs": [
    {
     "data": {
      "application/vnd.jupyter.widget-view+json": {
       "model_id": "af72bbf505d245d5bb4902975d178e2a",
       "version_major": 2,
       "version_minor": 0
      },
      "text/plain": [
       "  0%|          | 0/1695 [00:00<?, ?it/s]"
      ]
     },
     "metadata": {},
     "output_type": "display_data"
    },
    {
     "name": "stdout",
     "output_type": "stream",
     "text": [
      "Generated 34114 pairs with 17057 positives and 17057 negatives\n"
     ]
    }
   ],
   "source": [
    "train_pairs, train_labels = generate_pairs(train_dir)\n",
    "# val_pairs, val_labels = generate_pairs(val_dir)\n",
    "# test_pairs, test_labels = generate_pairs(test_dir)\n",
    "print(f\"Generated {len(train_pairs)} pairs with {np.sum(train_labels)} positives and {len(train_labels) - np.sum(train_labels)} negatives\")\n",
    "# print(f\"Generated {len(val_pairs)} pairs with {np.sum(val_labels)} positives and {len(val_labels) - np.sum(val_labels)} negatives\")\n",
    "# print(f\"Generated {len(test_pairs)} pairs with {np.sum(test_labels)} positives and {len(test_labels) - np.sum(test_labels)} negatives\")\n"
   ]
  },
  {
   "cell_type": "code",
   "execution_count": 12,
   "id": "4f70a360",
   "metadata": {},
   "outputs": [
    {
     "data": {
      "text/plain": [
       "(34114, 2, 60)"
      ]
     },
     "execution_count": 12,
     "metadata": {},
     "output_type": "execute_result"
    }
   ],
   "source": [
    "train_pairs.shape"
   ]
  },
  {
   "cell_type": "code",
   "execution_count": 14,
   "id": "30c4230a",
   "metadata": {},
   "outputs": [],
   "source": [
    "train_pairs, test_pairs, train_labels, test_labels = train_test_split(\n",
    "    train_pairs, train_labels, test_size=0.2, random_state=42\n",
    ")"
   ]
  },
  {
   "cell_type": "code",
   "execution_count": 16,
   "id": "085808e7",
   "metadata": {},
   "outputs": [],
   "source": [
    "# Reshape train data: flatten each pair into one single vector\n",
    "train_data_svc = train_pairs.reshape(-1, 120)  # 60 * 2 = 120\n",
    "\n",
    "# Reshape test data similarly\n",
    "test_data_svc = test_pairs.reshape(-1, 120)"
   ]
  },
  {
   "cell_type": "code",
   "execution_count": 27,
   "id": "2e414342",
   "metadata": {},
   "outputs": [
    {
     "name": "stdout",
     "output_type": "stream",
     "text": [
      "The best parameters are {'C': 10.0, 'gamma': 1e-08} with a score of 0.92\n"
     ]
    }
   ],
   "source": [
    "from sklearn.model_selection import GridSearchCV, StratifiedShuffleSplit\n",
    "from sklearn.svm import SVC\n",
    "\n",
    "C_range = np.logspace(-2, 10, 13)\n",
    "gamma_range = np.logspace(-9, 3, 13)\n",
    "param_grid = dict(gamma=gamma_range, C=C_range)\n",
    "cv = StratifiedShuffleSplit(n_splits=5, test_size=0.2, random_state=42)\n",
    "grid = GridSearchCV(SVC(kernel='rbf'), param_grid=param_grid, cv=cv)\n",
    "grid.fit(train_data_svc, train_labels)\n",
    "\n",
    "print(\n",
    "    \"The best parameters are %s with a score of %0.2f\"\n",
    "    % (grid.best_params_, grid.best_score_)\n",
    ")"
   ]
  },
  {
   "cell_type": "code",
   "execution_count": 28,
   "id": "e9808e36",
   "metadata": {},
   "outputs": [
    {
     "name": "stdout",
     "output_type": "stream",
     "text": [
      "Accuracy on test data:  0.9292100249157262\n",
      "Classification Report on test data:\n",
      "               precision    recall  f1-score   support\n",
      "\n",
      "           0       0.94      0.92      0.93      3421\n",
      "           1       0.92      0.94      0.93      3402\n",
      "\n",
      "    accuracy                           0.93      6823\n",
      "   macro avg       0.93      0.93      0.93      6823\n",
      "weighted avg       0.93      0.93      0.93      6823\n",
      "\n"
     ]
    }
   ],
   "source": [
    "from sklearn.metrics import accuracy_score, classification_report\n",
    "\n",
    "# Evaluate the best model on the test data\n",
    "best_model = grid.best_estimator_\n",
    "test_predictions = best_model.predict(test_data_svc)\n",
    "print(\"Accuracy on test data: \", accuracy_score(test_labels, test_predictions))\n",
    "print(\"Classification Report on test data:\\n\", classification_report(test_labels, test_predictions))"
   ]
  },
  {
   "cell_type": "code",
   "execution_count": 29,
   "id": "501bee5b",
   "metadata": {},
   "outputs": [
    {
     "data": {
      "image/png": "[encoded data removed]",
      "text/plain": [
       "<Figure size 800x600 with 2 Axes>"
      ]
     },
     "metadata": {},
     "output_type": "display_data"
    }
   ],
   "source": [
    "import matplotlib.pyplot as plt\n",
    "from matplotlib.colors import Normalize\n",
    "\n",
    "# Visualization of the cross-validation scores\n",
    "scores = grid.cv_results_['mean_test_score'].reshape(len(C_range), len(gamma_range))\n",
    "\n",
    "class MidpointNormalize(Normalize):\n",
    "    def __init__(self, vmin=None, vmax=None, midpoint=None, clip=False):\n",
    "        self.midpoint = midpoint\n",
    "        Normalize.__init__(self, vmin, vmax, clip)\n",
    "\n",
    "    def __call__(self, value, clip=None):\n",
    "        x, y = [self.vmin, self.midpoint, self.vmax], [0, 0.5, 1]\n",
    "        return np.ma.masked_array(np.interp(value, x, y))\n",
    "\n",
    "plt.figure(figsize=(8, 6))\n",
    "plt.imshow(\n",
    "    scores,\n",
    "    interpolation='nearest',\n",
    "    cmap=plt.cm.hot,\n",
    "    norm=MidpointNormalize(vmin=np.min(scores), midpoint=0.92)\n",
    ")\n",
    "plt.xlabel('gamma')\n",
    "plt.ylabel('C')\n",
    "plt.colorbar()\n",
    "plt.xticks(np.arange(len(gamma_range)), [f\"{g:.1e}\" for g in gamma_range], rotation=45)\n",
    "plt.yticks(np.arange(len(C_range)), [f\"{c:.1e}\" for c in C_range])\n",
    "plt.title('Validation accuracy')\n",
    "plt.show()"
   ]
  },
  {
   "cell_type": "code",
   "execution_count": 30,
   "id": "b8743a2d",
   "metadata": {},
   "outputs": [
    {
     "name": "stdout",
     "output_type": "stream",
     "text": [
      "Model saved to svc_rbf_c_10_gamma_1e-08.pkl\n"
     ]
    }
   ],
   "source": [
    "import pickle\n",
    "\n",
    "# Save the model to disk\n",
    "model_filename = 'svc_rbf_c_10_gamma_1e-08.pkl'  # Specify your path here\n",
    "with open(model_filename, 'wb') as file:\n",
    "    pickle.dump(best_model, file)\n",
    "\n",
    "print(f\"Model saved to {model_filename}\")"
   ]
  }
 ],
 "metadata": {
  "kernelspec": {
   "display_name": "Python 3 (ipykernel)",
   "language": "python",
   "name": "python3"
  },
  "language_info": {
   "codemirror_mode": {
    "name": "ipython",
    "version": 3
   },
   "file_extension": ".py",
   "mimetype": "text/x-python",
   "name": "python",
   "nbconvert_exporter": "python",
   "pygments_lexer": "ipython3",
   "version": "3.11.7"
  }
 },
 "nbformat": 4,
 "nbformat_minor": 5
}
